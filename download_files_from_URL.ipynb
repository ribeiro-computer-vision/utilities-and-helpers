{
  "nbformat": 4,
  "nbformat_minor": 0,
  "metadata": {
    "colab": {
      "provenance": []
    },
    "kernelspec": {
      "name": "python3",
      "display_name": "Python 3"
    },
    "language_info": {
      "name": "python"
    }
  },
  "cells": [
    {
      "cell_type": "markdown",
      "source": [
        "# Utility to download files from cloud servers"
      ],
      "metadata": {
        "id": "5yLpG2gvzrsM"
      }
    },
    {
      "cell_type": "code",
      "source": [
        "!pip install requests"
      ],
      "metadata": {
        "colab": {
          "base_uri": "https://localhost:8080/"
        },
        "id": "GIeyW5H0zDTC",
        "outputId": "c66ed807-86df-421c-9195-8b711f354a0c"
      },
      "execution_count": null,
      "outputs": [
        {
          "output_type": "stream",
          "name": "stdout",
          "text": [
            "Requirement already satisfied: requests in /usr/local/lib/python3.12/dist-packages (2.32.4)\n",
            "Requirement already satisfied: charset_normalizer<4,>=2 in /usr/local/lib/python3.12/dist-packages (from requests) (3.4.3)\n",
            "Requirement already satisfied: idna<4,>=2.5 in /usr/local/lib/python3.12/dist-packages (from requests) (3.10)\n",
            "Requirement already satisfied: urllib3<3,>=1.21.1 in /usr/local/lib/python3.12/dist-packages (from requests) (2.5.0)\n",
            "Requirement already satisfied: certifi>=2017.4.17 in /usr/local/lib/python3.12/dist-packages (from requests) (2025.8.3)\n"
          ]
        }
      ]
    },
    {
      "cell_type": "code",
      "execution_count": null,
      "metadata": {
        "id": "c41t0gs3xi8I"
      },
      "outputs": [],
      "source": [
        "import os, shutil, zipfile\n",
        "import numpy as np\n",
        "import imageio\n",
        "import matplotlib.pyplot as plt\n",
        "import re\n",
        "import cv2\n",
        "from mpl_toolkits.axes_grid1 import ImageGrid\n",
        "from typing import List, Optional, Dict, Any\n",
        "import requests\n",
        "\n",
        "\n",
        "# ========= Namespaces (pure helpers live here) =================================\n",
        "\n",
        "class IO:\n",
        "    \"\"\"I/O & assets (stateful paths are passed in).\"\"\"\n",
        "    @staticmethod\n",
        "    def get_device():\n",
        "        if torch.cuda.is_available():\n",
        "            torch.cuda.set_device(0)\n",
        "            dev = torch.device(\"cuda:0\")\n",
        "            print(f\"[INFO] Using CUDA: {dev}.\")\n",
        "        else:\n",
        "            dev = torch.device(\"cpu\")\n",
        "            print(\"[INFO] Using CPU.\")\n",
        "        return dev\n",
        "\n",
        "    @staticmethod\n",
        "    def _download_file(url, dest_path):\n",
        "        with requests.get(url, stream=True) as r:\n",
        "            with open(dest_path, \"wb\") as f:\n",
        "                shutil.copyfileobj(r.raw, f)\n",
        "\n",
        "    @staticmethod\n",
        "    def get_demo_files(assets_dir: str):\n",
        "        os.makedirs(assets_dir, exist_ok=True)\n",
        "        # (unchanged URLs)\n",
        "        # If using Dropbox shared links, change the =0 to =1\n",
        "        files = {\n",
        "            \"test_image1\": (\"https://www.dropbox.com/scl/fi/2jltcqc1zhn90lk3bvk41/00006.png?rlkey=riepp315jmge5tghtheponlqe&dl=1\",\n",
        "                          os.path.join(assets_dir, \"test_image1.png\")),\n",
        "            \"test_image2\": (\"https://www.dropbox.com/scl/fi/b4bjgg4w6n6c6ufx1krhg/00002.png?rlkey=2h6yikdk1liz4b0ojpw4dcz50&dl=1\",\n",
        "                             os.path.join(assets_dir, \"test_image2.png\")),\n",
        "        }\n",
        "        for url, path in files.values():\n",
        "            print(f\"📥 Downloading -> {path}\")\n",
        "            IO._download_file(url, path)\n",
        "        print(f\"✅ Files in: {assets_dir}\")\n",
        "        return {k: p for k, (_, p) in files.items()}"
      ]
    },
    {
      "cell_type": "code",
      "source": [
        "\n",
        "IO.get_demo_files(assets_dir = \"./assets/\")"
      ],
      "metadata": {
        "colab": {
          "base_uri": "https://localhost:8080/"
        },
        "id": "df-ADgrMyrff",
        "outputId": "abbbeda1-3c07-4865-c134-f762b114cda9"
      },
      "execution_count": null,
      "outputs": [
        {
          "output_type": "stream",
          "name": "stdout",
          "text": [
            "📥 Downloading -> ./assets/test_image1.png\n",
            "📥 Downloading -> ./assets/test_image2.png\n",
            "✅ Files in: ./assets/\n"
          ]
        },
        {
          "output_type": "execute_result",
          "data": {
            "text/plain": [
              "{'test_image1': './assets/test_image1.png',\n",
              " 'test_image2': './assets/test_image2.png'}"
            ]
          },
          "metadata": {},
          "execution_count": 10
        }
      ]
    }
  ]
}